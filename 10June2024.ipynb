{
 "cells": [
  {
   "cell_type": "code",
   "execution_count": 1,
   "metadata": {},
   "outputs": [
    {
     "name": "stdout",
     "output_type": "stream",
     "text": [
      "Initial list: ['Toyota', 'Honda', 'Ford']\n"
     ]
    }
   ],
   "source": [
    "# Creating a list\n",
    "cars = [\"Toyota\", \"Honda\", \"Ford\"]\n",
    "print(\"Initial list:\", cars)"
   ]
  },
  {
   "cell_type": "code",
   "execution_count": 2,
   "metadata": {},
   "outputs": [
    {
     "name": "stdout",
     "output_type": "stream",
     "text": [
      "After append: ['Toyota', 'Honda', 'Ford', 'Chevrolet']\n"
     ]
    }
   ],
   "source": [
    "# append()\n",
    "cars.append(\"Chevrolet\")\n",
    "print(\"After append:\", cars)"
   ]
  },
  {
   "cell_type": "code",
   "execution_count": 3,
   "metadata": {},
   "outputs": [
    {
     "name": "stdout",
     "output_type": "stream",
     "text": [
      "After insert: ['Toyota', 'BMW', 'Honda', 'Ford', 'Chevrolet']\n"
     ]
    }
   ],
   "source": [
    "# insert()\n",
    "cars.insert(1, \"BMW\")\n",
    "print(\"After insert:\", cars)"
   ]
  },
  {
   "cell_type": "code",
   "execution_count": 4,
   "metadata": {},
   "outputs": [
    {
     "name": "stdout",
     "output_type": "stream",
     "text": [
      "After remove: ['Toyota', 'BMW', 'Ford', 'Chevrolet']\n"
     ]
    }
   ],
   "source": [
    "# remove()\n",
    "cars.remove(\"Honda\")\n",
    "print(\"After remove:\", cars)"
   ]
  },
  {
   "cell_type": "code",
   "execution_count": 5,
   "metadata": {},
   "outputs": [
    {
     "name": "stdout",
     "output_type": "stream",
     "text": [
      "Shallow copy of the list: ['Toyota', 'BMW', 'Ford', 'Chevrolet']\n"
     ]
    }
   ],
   "source": [
    "# copy()\n",
    "# Shallow Copy\n",
    "cars_copy = cars.copy()\n",
    "print(\"Shallow copy of the list:\", cars_copy)"
   ]
  },
  {
   "cell_type": "code",
   "execution_count": 7,
   "metadata": {},
   "outputs": [
    {
     "name": "stdout",
     "output_type": "stream",
     "text": [
      "Deep Copy: ['Benz', 'BMW', 'Ford', 'Chevrolet']\n",
      "Original List: ['Toyota', 'BMW', 'Ford', 'Chevrolet']\n"
     ]
    }
   ],
   "source": [
    "# Deep Copy\n",
    "import copy\n",
    "cars_deep_copy = copy.deepcopy(cars)\n",
    "cars_deep_copy[0] = \"Benz\"  \n",
    "print(\"Deep Copy:\", cars_deep_copy)\n",
    "print(\"Original List:\", cars)"
   ]
  },
  {
   "cell_type": "code",
   "execution_count": 8,
   "metadata": {},
   "outputs": [
    {
     "name": "stdout",
     "output_type": "stream",
     "text": [
      "After pop: ['Toyota', 'BMW', 'Chevrolet']\n",
      "Popped element: Ford\n"
     ]
    }
   ],
   "source": [
    "# pop()\n",
    "popped_car = cars.pop(2)\n",
    "print(\"After pop:\", cars)\n",
    "print(\"Popped element:\", popped_car)"
   ]
  },
  {
   "cell_type": "code",
   "execution_count": 9,
   "metadata": {},
   "outputs": [
    {
     "name": "stdout",
     "output_type": "stream",
     "text": [
      "After sort: ['BMW', 'Chevrolet', 'Toyota']\n"
     ]
    }
   ],
   "source": [
    "# sort()\n",
    "cars.sort()\n",
    "print(\"After sort:\", cars)"
   ]
  },
  {
   "cell_type": "code",
   "execution_count": 10,
   "metadata": {},
   "outputs": [
    {
     "name": "stdout",
     "output_type": "stream",
     "text": [
      "After reverse: ['Toyota', 'Chevrolet', 'BMW']\n"
     ]
    }
   ],
   "source": [
    "# reverse()\n",
    "cars.reverse()\n",
    "print(\"After reverse:\", cars)"
   ]
  },
  {
   "cell_type": "code",
   "execution_count": 11,
   "metadata": {},
   "outputs": [
    {
     "name": "stdout",
     "output_type": "stream",
     "text": [
      "Index of 'Toyota': 0\n"
     ]
    }
   ],
   "source": [
    "# index()\n",
    "index_of_toyota = cars.index(\"Toyota\")\n",
    "print(\"Index of 'Toyota':\", index_of_toyota)"
   ]
  },
  {
   "cell_type": "code",
   "execution_count": 13,
   "metadata": {},
   "outputs": [
    {
     "name": "stdout",
     "output_type": "stream",
     "text": [
      "Count of 'Toyota': 1\n"
     ]
    }
   ],
   "source": [
    "# count()\n",
    "count_of_toyota = cars.count(\"Toyota\")\n",
    "print(\"Count of 'Toyota':\", count_of_toyota)"
   ]
  },
  {
   "cell_type": "code",
   "execution_count": 14,
   "metadata": {},
   "outputs": [
    {
     "name": "stdout",
     "output_type": "stream",
     "text": [
      "After extend: ['Toyota', 'Chevrolet', 'BMW', 'Red', 'Blue']\n"
     ]
    }
   ],
   "source": [
    "# extend()\n",
    "colors = [\"Red\", \"Blue\"]\n",
    "cars.extend(colors)\n",
    "print(\"After extend:\", cars)"
   ]
  },
  {
   "cell_type": "code",
   "execution_count": 15,
   "metadata": {},
   "outputs": [
    {
     "name": "stdout",
     "output_type": "stream",
     "text": [
      "After clear: []\n"
     ]
    }
   ],
   "source": [
    "# clear()\n",
    "cars.clear()\n",
    "print(\"After clear:\", cars)"
   ]
  },
  {
   "cell_type": "code",
   "execution_count": 17,
   "metadata": {},
   "outputs": [
    {
     "name": "stdout",
     "output_type": "stream",
     "text": [
      "Uppercase cars: ['TOYOTA', 'HONDA', 'FORD']\n"
     ]
    }
   ],
   "source": [
    "cars = [\"Toyota\", \"Honda\", \"Ford\"]\n",
    "# Creating a list of car brands in uppercase\n",
    "uppercase_cars = [car.upper() for car in cars]\n",
    "print(\"Uppercase cars:\", uppercase_cars)"
   ]
  },
  {
   "cell_type": "code",
   "execution_count": 19,
   "metadata": {},
   "outputs": [
    {
     "name": "stdout",
     "output_type": "stream",
     "text": [
      "Cars with 'a': ['Toyota', 'Honda']\n"
     ]
    }
   ],
   "source": [
    "# Creating a list of car brands with the letter 'a' in them\n",
    "cars_with_a = [car for car in cars if 'a' in car]\n",
    "print(\"Cars with 'a':\", cars_with_a)"
   ]
  },
  {
   "cell_type": "code",
   "execution_count": 20,
   "metadata": {},
   "outputs": [
    {
     "name": "stdout",
     "output_type": "stream",
     "text": [
      "Lengths of car names: [6, 5, 4]\n"
     ]
    }
   ],
   "source": [
    "# Creating a list of car lengths\n",
    "car_lengths = [len(car) for car in cars]\n",
    "print(\"Lengths of car names:\", car_lengths)"
   ]
  },
  {
   "cell_type": "code",
   "execution_count": 21,
   "metadata": {},
   "outputs": [
    {
     "name": "stdout",
     "output_type": "stream",
     "text": [
      "List of squares: [0, 1, 4, 9, 16, 25, 36, 49, 64, 81]\n"
     ]
    }
   ],
   "source": [
    "#  list of squares for numbers from 0 to 9\n",
    "squares = [x ** 2 for x in range(10)]\n",
    "print(\"List of squares:\", squares)"
   ]
  },
  {
   "cell_type": "code",
   "execution_count": 22,
   "metadata": {},
   "outputs": [
    {
     "name": "stdout",
     "output_type": "stream",
     "text": [
      "Even numbers: [0, 2, 4, 6, 8, 10, 12, 14, 16, 18]\n"
     ]
    }
   ],
   "source": [
    "# list of even numbers from 0 to 19\n",
    "even_numbers = [x for x in range(20) if x % 2 == 0]\n",
    "print(\"Even numbers:\", even_numbers)"
   ]
  },
  {
   "cell_type": "code",
   "execution_count": 23,
   "metadata": {},
   "outputs": [
    {
     "name": "stdout",
     "output_type": "stream",
     "text": [
      "First car: Toyota\n"
     ]
    }
   ],
   "source": [
    "# Indexing - Accessing individual elements\n",
    "first_car = cars[0]\n",
    "print(\"First car:\", first_car)"
   ]
  },
  {
   "cell_type": "code",
   "execution_count": 24,
   "metadata": {},
   "outputs": [
    {
     "name": "stdout",
     "output_type": "stream",
     "text": [
      "Last car: Ford\n"
     ]
    }
   ],
   "source": [
    "last_car = cars[-1]\n",
    "print(\"Last car:\", last_car)"
   ]
  },
  {
   "cell_type": "code",
   "execution_count": 25,
   "metadata": {},
   "outputs": [
    {
     "name": "stdout",
     "output_type": "stream",
     "text": [
      "First two cars: ['Toyota', 'Honda']\n"
     ]
    }
   ],
   "source": [
    "# Slicing - Accessing a subset of the list\n",
    "first_two_cars = cars[0:2]\n",
    "print(\"First two cars:\", first_two_cars) "
   ]
  },
  {
   "cell_type": "code",
   "execution_count": 26,
   "metadata": {},
   "outputs": [
    {
     "name": "stdout",
     "output_type": "stream",
     "text": [
      "Last two cars: ['Honda', 'Ford']\n"
     ]
    }
   ],
   "source": [
    "last_two_cars = cars[-2:]\n",
    "print(\"Last two cars:\", last_two_cars)"
   ]
  },
  {
   "cell_type": "code",
   "execution_count": 27,
   "metadata": {},
   "outputs": [
    {
     "name": "stdout",
     "output_type": "stream",
     "text": [
      "Middle cars: ['Honda', 'Ford']\n"
     ]
    }
   ],
   "source": [
    "middle_cars = cars[1:4]\n",
    "print(\"Middle cars:\", middle_cars)"
   ]
  },
  {
   "cell_type": "code",
   "execution_count": 28,
   "metadata": {},
   "outputs": [
    {
     "name": "stdout",
     "output_type": "stream",
     "text": [
      "Every second car: ['Toyota', 'Ford']\n"
     ]
    }
   ],
   "source": [
    "# Slicing with steps\n",
    "every_second_car = cars[::2]\n",
    "print(\"Every second car:\", every_second_car)"
   ]
  },
  {
   "cell_type": "code",
   "execution_count": 29,
   "metadata": {},
   "outputs": [
    {
     "name": "stdout",
     "output_type": "stream",
     "text": [
      "Reversed list of cars: ['Ford', 'Honda', 'Toyota']\n"
     ]
    }
   ],
   "source": [
    "reversed_cars = cars[::-1]\n",
    "print(\"Reversed list of cars:\", reversed_cars)"
   ]
  },
  {
   "cell_type": "code",
   "execution_count": 30,
   "metadata": {},
   "outputs": [
    {
     "name": "stdout",
     "output_type": "stream",
     "text": [
      "(1, 2, 3, 4, 5)\n"
     ]
    }
   ],
   "source": [
    "# Tuple creation\n",
    "my_tuple = (1, 2, 3, 4, 5)\n",
    "print(my_tuple)"
   ]
  },
  {
   "cell_type": "code",
   "execution_count": 31,
   "metadata": {},
   "outputs": [
    {
     "name": "stdout",
     "output_type": "stream",
     "text": [
      "First element: 1\n",
      "Last element: 5\n"
     ]
    }
   ],
   "source": [
    "# Accessing elements\n",
    "print(\"First element:\", my_tuple[0])\n",
    "print(\"Last element:\", my_tuple[-1])"
   ]
  },
  {
   "cell_type": "code",
   "execution_count": 32,
   "metadata": {},
   "outputs": [
    {
     "name": "stdout",
     "output_type": "stream",
     "text": [
      "Slicing from index 1 to 3: (2, 3, 4)\n"
     ]
    }
   ],
   "source": [
    "# Slicing\n",
    "print(\"Slicing from index 1 to 3:\", my_tuple[1:4])"
   ]
  },
  {
   "cell_type": "code",
   "execution_count": 33,
   "metadata": {},
   "outputs": [
    {
     "name": "stdout",
     "output_type": "stream",
     "text": [
      "Length of tuple: 5\n"
     ]
    }
   ],
   "source": [
    "# Length of a tuple\n",
    "print(\"Length of tuple:\", len(my_tuple))"
   ]
  },
  {
   "cell_type": "code",
   "execution_count": 34,
   "metadata": {},
   "outputs": [
    {
     "name": "stdout",
     "output_type": "stream",
     "text": [
      "Concatenated tuple: (1, 2, 3, 4, 5, 6, 7, 8)\n"
     ]
    }
   ],
   "source": [
    "# Tuple concatenation\n",
    "another_tuple = (6, 7, 8)\n",
    "concatenated_tuple = my_tuple + another_tuple\n",
    "print(\"Concatenated tuple:\", concatenated_tuple)"
   ]
  },
  {
   "cell_type": "code",
   "execution_count": 35,
   "metadata": {},
   "outputs": [
    {
     "name": "stdout",
     "output_type": "stream",
     "text": [
      "Repeated tuple: (1, 2, 3, 4, 5, 1, 2, 3, 4, 5)\n"
     ]
    }
   ],
   "source": [
    "# Repeating elements in a tuple\n",
    "repeated_tuple = my_tuple * 2\n",
    "print(\"Repeated tuple:\", repeated_tuple)"
   ]
  },
  {
   "cell_type": "code",
   "execution_count": 36,
   "metadata": {},
   "outputs": [
    {
     "name": "stdout",
     "output_type": "stream",
     "text": [
      "Is 3 in the tuple? True\n",
      "Is 10 in the tuple? False\n"
     ]
    }
   ],
   "source": [
    "# Checking for existence of an element\n",
    "print(\"Is 3 in the tuple?\", 3 in my_tuple)\n",
    "print(\"Is 10 in the tuple?\", 10 in my_tuple)"
   ]
  },
  {
   "cell_type": "code",
   "execution_count": 37,
   "metadata": {},
   "outputs": [
    {
     "name": "stdout",
     "output_type": "stream",
     "text": [
      "Index of element 4: 3\n"
     ]
    }
   ],
   "source": [
    "# Finding the index of an element\n",
    "print(\"Index of element 4:\", my_tuple.index(4))"
   ]
  },
  {
   "cell_type": "code",
   "execution_count": 38,
   "metadata": {},
   "outputs": [
    {
     "name": "stdout",
     "output_type": "stream",
     "text": [
      "Count of element 3: 1\n"
     ]
    }
   ],
   "source": [
    "# Counting occurrences of an element\n",
    "print(\"Count of element 3:\", my_tuple.count(3))"
   ]
  },
  {
   "cell_type": "code",
   "execution_count": 39,
   "metadata": {},
   "outputs": [
    {
     "name": "stdout",
     "output_type": "stream",
     "text": [
      "Nested tuple: ((1, 2, 3, 4, 5), (6, 7, 8))\n"
     ]
    }
   ],
   "source": [
    "# Nested tuples\n",
    "nested_tuple = (my_tuple, another_tuple)\n",
    "print(\"Nested tuple:\", nested_tuple)"
   ]
  },
  {
   "cell_type": "code",
   "execution_count": 40,
   "metadata": {},
   "outputs": [
    {
     "name": "stdout",
     "output_type": "stream",
     "text": [
      "Unpacked values: 1 2 3 4 5\n"
     ]
    }
   ],
   "source": [
    "# Unpacking tuples\n",
    "a, b, c, d, e = my_tuple\n",
    "print(\"Unpacked values:\", a, b, c, d, e)"
   ]
  },
  {
   "cell_type": "code",
   "execution_count": 44,
   "metadata": {},
   "outputs": [
    {
     "name": "stdout",
     "output_type": "stream",
     "text": [
      "Dictionary with tuple keys: {(1, 2, 3, 4, 5): 'This is my tuple', (6, 7, 8): 'This is another tuple'}\n"
     ]
    }
   ],
   "source": [
    "# Using tuples as keys in dictionaries (tuples are immutable)\n",
    "tuple_dict = {my_tuple: \"This is my tuple\", another_tuple: \"This is another tuple\"}\n",
    "print(\"Dictionary with tuple keys:\", tuple_dict)"
   ]
  },
  {
   "cell_type": "code",
   "execution_count": 45,
   "metadata": {},
   "outputs": [
    {
     "name": "stdout",
     "output_type": "stream",
     "text": [
      "Error: 'tuple' object does not support item assignment\n"
     ]
    }
   ],
   "source": [
    "# Immutable nature of tuples\n",
    "try:\n",
    "    my_tuple[0] = 10  # This will raise an error\n",
    "except TypeError as e:\n",
    "    print(\"Error:\", e)"
   ]
  },
  {
   "cell_type": "code",
   "execution_count": 46,
   "metadata": {},
   "outputs": [
    {
     "name": "stdout",
     "output_type": "stream",
     "text": [
      "Tuple with mixed data types: (1, 'Hello', 3.14, True)\n"
     ]
    }
   ],
   "source": [
    "# Tuples with different data types\n",
    "mixed_tuple = (1, \"Hello\", 3.14, True)\n",
    "print(\"Tuple with mixed data types:\", mixed_tuple)"
   ]
  },
  {
   "cell_type": "code",
   "execution_count": 47,
   "metadata": {},
   "outputs": [
    {
     "name": "stdout",
     "output_type": "stream",
     "text": [
      "Looping through the tuple:\n",
      "1\n",
      "2\n",
      "3\n",
      "4\n",
      "5\n"
     ]
    }
   ],
   "source": [
    "# Looping through a tuple\n",
    "print(\"Looping through the tuple:\")\n",
    "for element in my_tuple:\n",
    "    print(element)"
   ]
  },
  {
   "cell_type": "code",
   "execution_count": 48,
   "metadata": {},
   "outputs": [
    {
     "name": "stdout",
     "output_type": "stream",
     "text": [
      "Initial dictionary: {'name': 'John', 'age': 30, 'city': 'New York'}\n"
     ]
    }
   ],
   "source": [
    "# Creating a dictionary\n",
    "my_dict = {\n",
    "    \"name\": \"John\",\n",
    "    \"age\": 30,\n",
    "    \"city\": \"New York\"\n",
    "}\n",
    "\n",
    "# Printing the dictionary\n",
    "print(\"Initial dictionary:\", my_dict)"
   ]
  },
  {
   "cell_type": "code",
   "execution_count": 49,
   "metadata": {},
   "outputs": [
    {
     "name": "stdout",
     "output_type": "stream",
     "text": [
      "Name: John\n",
      "Age: 30\n"
     ]
    }
   ],
   "source": [
    "# Accessing values using keys\n",
    "print(\"Name:\", my_dict[\"name\"])\n",
    "print(\"Age:\", my_dict[\"age\"])"
   ]
  },
  {
   "cell_type": "code",
   "execution_count": 50,
   "metadata": {},
   "outputs": [
    {
     "name": "stdout",
     "output_type": "stream",
     "text": [
      "After adding email: {'name': 'John', 'age': 30, 'city': 'New York', 'email': 'john@example.com'}\n"
     ]
    }
   ],
   "source": [
    "# Adding a new key-value pair\n",
    "my_dict[\"email\"] = \"john@example.com\"\n",
    "print(\"After adding email:\", my_dict)"
   ]
  },
  {
   "cell_type": "code",
   "execution_count": 51,
   "metadata": {},
   "outputs": [
    {
     "name": "stdout",
     "output_type": "stream",
     "text": [
      "After updating age: {'name': 'John', 'age': 31, 'city': 'New York', 'email': 'john@example.com'}\n"
     ]
    }
   ],
   "source": [
    "# Updating an existing value\n",
    "my_dict[\"age\"] = 31\n",
    "print(\"After updating age:\", my_dict)"
   ]
  },
  {
   "cell_type": "code",
   "execution_count": 52,
   "metadata": {},
   "outputs": [
    {
     "name": "stdout",
     "output_type": "stream",
     "text": [
      "Popped value (city): New York\n",
      "After popping city: {'name': 'John', 'age': 31, 'email': 'john@example.com'}\n"
     ]
    }
   ],
   "source": [
    "# Removing a key-value pair using pop\n",
    "popped_value = my_dict.pop(\"city\")\n",
    "print(\"Popped value (city):\", popped_value)\n",
    "print(\"After popping city:\", my_dict)"
   ]
  },
  {
   "cell_type": "code",
   "execution_count": 53,
   "metadata": {},
   "outputs": [
    {
     "name": "stdout",
     "output_type": "stream",
     "text": [
      "Email: john@example.com\n"
     ]
    }
   ],
   "source": [
    "# Getting a value using get\n",
    "email = my_dict.get(\"email\")\n",
    "print(\"Email:\", email)"
   ]
  },
  {
   "cell_type": "code",
   "execution_count": 54,
   "metadata": {},
   "outputs": [
    {
     "name": "stdout",
     "output_type": "stream",
     "text": [
      "Country (with default): USA\n"
     ]
    }
   ],
   "source": [
    "# Getting a value with a default if the key doesn't exist\n",
    "country = my_dict.get(\"country\", \"USA\")\n",
    "print(\"Country (with default):\", country)"
   ]
  },
  {
   "cell_type": "code",
   "execution_count": null,
   "metadata": {},
   "outputs": [],
   "source": [
    "# Checking if a key exists in the dictionary\n",
    "has_name = \"name\" in my_dict\n",
    "print(\"Is 'name' a key in the dictionary?:\", has_name)"
   ]
  },
  {
   "cell_type": "code",
   "execution_count": 55,
   "metadata": {},
   "outputs": [
    {
     "name": "stdout",
     "output_type": "stream",
     "text": [
      "Keys in dictionary:\n",
      "name\n",
      "age\n",
      "email\n"
     ]
    }
   ],
   "source": [
    "# Iterating over keys\n",
    "print(\"Keys in dictionary:\")\n",
    "for key in my_dict.keys():\n",
    "    print(key)"
   ]
  },
  {
   "cell_type": "code",
   "execution_count": 56,
   "metadata": {},
   "outputs": [
    {
     "name": "stdout",
     "output_type": "stream",
     "text": [
      "Values in dictionary:\n",
      "John\n",
      "31\n",
      "john@example.com\n"
     ]
    }
   ],
   "source": [
    "# Iterating over values\n",
    "print(\"Values in dictionary:\")\n",
    "for value in my_dict.values():\n",
    "    print(value)"
   ]
  },
  {
   "cell_type": "code",
   "execution_count": 57,
   "metadata": {},
   "outputs": [
    {
     "name": "stdout",
     "output_type": "stream",
     "text": [
      "Key-value pairs in dictionary:\n",
      "name : John\n",
      "age : 31\n",
      "email : john@example.com\n"
     ]
    }
   ],
   "source": [
    "# Iterating over key-value pairs\n",
    "print(\"Key-value pairs in dictionary:\")\n",
    "for key, value in my_dict.items():\n",
    "    print(key, \":\", value)"
   ]
  },
  {
   "cell_type": "code",
   "execution_count": 58,
   "metadata": {},
   "outputs": [
    {
     "name": "stdout",
     "output_type": "stream",
     "text": [
      "Copied dictionary: {'name': 'John', 'age': 31, 'email': 'john@example.com'}\n"
     ]
    }
   ],
   "source": [
    "# Copying a dictionary\n",
    "dict_copy = my_dict.copy()\n",
    "print(\"Copied dictionary:\", dict_copy)"
   ]
  },
  {
   "cell_type": "code",
   "execution_count": 59,
   "metadata": {},
   "outputs": [
    {
     "name": "stdout",
     "output_type": "stream",
     "text": [
      "After clearing dictionary: {}\n"
     ]
    }
   ],
   "source": [
    "# Clearing all items in the dictionary\n",
    "my_dict.clear()\n",
    "print(\"After clearing dictionary:\", my_dict)"
   ]
  },
  {
   "cell_type": "code",
   "execution_count": 60,
   "metadata": {},
   "outputs": [
    {
     "name": "stdout",
     "output_type": "stream",
     "text": [
      "Initial set1: {1, 2, 3, 4, 5}\n"
     ]
    }
   ],
   "source": [
    "# Creating a set\n",
    "set1 = {1, 2, 3, 4, 5}\n",
    "print(f\"Initial set1: {set1}\")"
   ]
  },
  {
   "cell_type": "code",
   "execution_count": 61,
   "metadata": {},
   "outputs": [
    {
     "name": "stdout",
     "output_type": "stream",
     "text": [
      "Set1 after adding an element: {1, 2, 3, 4, 5, 6}\n"
     ]
    }
   ],
   "source": [
    "# Adding elements to a set\n",
    "set1.add(6)\n",
    "print(f\"Set1 after adding an element: {set1}\")"
   ]
  },
  {
   "cell_type": "code",
   "execution_count": 62,
   "metadata": {},
   "outputs": [
    {
     "name": "stdout",
     "output_type": "stream",
     "text": [
      "Set1 after updating with multiple elements: {1, 2, 3, 4, 5, 6, 7, 8, 9}\n"
     ]
    }
   ],
   "source": [
    "# Updating a set with multiple elements\n",
    "set1.update([7, 8, 9])\n",
    "print(f\"Set1 after updating with multiple elements: {set1}\")"
   ]
  },
  {
   "cell_type": "code",
   "execution_count": 63,
   "metadata": {},
   "outputs": [
    {
     "name": "stdout",
     "output_type": "stream",
     "text": [
      "Set1 after removing an element: {1, 3, 4, 5, 6, 7, 8, 9}\n"
     ]
    }
   ],
   "source": [
    "# Removing an element from a set\n",
    "set1.remove(2)\n",
    "print(f\"Set1 after removing an element: {set1}\")"
   ]
  },
  {
   "cell_type": "code",
   "execution_count": 64,
   "metadata": {},
   "outputs": [
    {
     "name": "stdout",
     "output_type": "stream",
     "text": [
      "Set1 after discarding an element (non-existent element): {1, 3, 4, 5, 6, 7, 8, 9}\n"
     ]
    }
   ],
   "source": [
    "# Discarding an element from a set (doesn't raise an error if element is not found)\n",
    "set1.discard(10)\n",
    "print(f\"Set1 after discarding an element (non-existent element): {set1}\")"
   ]
  },
  {
   "cell_type": "code",
   "execution_count": 65,
   "metadata": {},
   "outputs": [
    {
     "name": "stdout",
     "output_type": "stream",
     "text": [
      "Set2 (copy of set1): {1, 3, 4, 5, 6, 7, 8, 9}\n"
     ]
    }
   ],
   "source": [
    "# Copying a set\n",
    "set2 = set1.copy()\n",
    "print(f\"Set2 (copy of set1): {set2}\")"
   ]
  },
  {
   "cell_type": "code",
   "execution_count": null,
   "metadata": {},
   "outputs": [],
   "source": [
    "# Union of sets\n",
    "set3 = {10, 11, 12}\n",
    "union_set = set1.union(set3)\n",
    "print(f\"Union of set1 and set3: {union_set}\")"
   ]
  },
  {
   "cell_type": "code",
   "execution_count": 66,
   "metadata": {},
   "outputs": [
    {
     "name": "stdout",
     "output_type": "stream",
     "text": [
      "Intersection of set1 and set4: {8, 9}\n"
     ]
    }
   ],
   "source": [
    "# Intersection of sets\n",
    "set4 = {8, 9, 10}\n",
    "intersection_set = set1.intersection(set4)\n",
    "print(f\"Intersection of set1 and set4: {intersection_set}\")"
   ]
  },
  {
   "cell_type": "code",
   "execution_count": 67,
   "metadata": {},
   "outputs": [
    {
     "name": "stdout",
     "output_type": "stream",
     "text": [
      "Difference of set1 and set4: {1, 3, 4, 5, 6, 7}\n"
     ]
    }
   ],
   "source": [
    "# Difference of sets\n",
    "difference_set = set1.difference(set4)\n",
    "print(f\"Difference of set1 and set4: {difference_set}\")"
   ]
  },
  {
   "cell_type": "code",
   "execution_count": 68,
   "metadata": {},
   "outputs": [
    {
     "name": "stdout",
     "output_type": "stream",
     "text": [
      "Symmetric difference of set1 and set4: {1, 3, 4, 5, 6, 7, 10}\n"
     ]
    }
   ],
   "source": [
    "# Symmetric difference of sets\n",
    "symmetric_difference_set = set1.symmetric_difference(set4)\n",
    "print(f\"Symmetric difference of set1 and set4: {symmetric_difference_set}\")"
   ]
  },
  {
   "cell_type": "code",
   "execution_count": 69,
   "metadata": {},
   "outputs": [
    {
     "name": "stdout",
     "output_type": "stream",
     "text": [
      "Is set5 a subset of set1? True\n"
     ]
    }
   ],
   "source": [
    "# Checking subset\n",
    "set5 = {1, 3, 4}\n",
    "is_subset = set5.issubset(set1)\n",
    "print(f\"Is set5 a subset of set1? {is_subset}\")"
   ]
  },
  {
   "cell_type": "code",
   "execution_count": 70,
   "metadata": {},
   "outputs": [
    {
     "name": "stdout",
     "output_type": "stream",
     "text": [
      "Is set1 a superset of set5? True\n"
     ]
    }
   ],
   "source": [
    "# Checking superset\n",
    "is_superset = set1.issuperset(set5)\n",
    "print(f\"Is set1 a superset of set5? {is_superset}\")"
   ]
  },
  {
   "cell_type": "code",
   "execution_count": 71,
   "metadata": {},
   "outputs": [
    {
     "name": "stdout",
     "output_type": "stream",
     "text": [
      "Are set1 and set6 disjoint sets? True\n"
     ]
    }
   ],
   "source": [
    "# Checking disjoint sets\n",
    "set6 = {20, 21}\n",
    "is_disjoint = set1.isdisjoint(set6)\n",
    "print(f\"Are set1 and set6 disjoint sets? {is_disjoint}\")"
   ]
  },
  {
   "cell_type": "code",
   "execution_count": 72,
   "metadata": {},
   "outputs": [
    {
     "name": "stdout",
     "output_type": "stream",
     "text": [
      "Set1 after clearing all elements: set()\n"
     ]
    }
   ],
   "source": [
    "# Clearing a set\n",
    "set1.clear()\n",
    "print(f\"Set1 after clearing all elements: {set1}\")"
   ]
  }
 ],
 "metadata": {
  "kernelspec": {
   "display_name": "Python 3",
   "language": "python",
   "name": "python3"
  },
  "language_info": {
   "codemirror_mode": {
    "name": "ipython",
    "version": 3
   },
   "file_extension": ".py",
   "mimetype": "text/x-python",
   "name": "python",
   "nbconvert_exporter": "python",
   "pygments_lexer": "ipython3",
   "version": "3.12.2"
  }
 },
 "nbformat": 4,
 "nbformat_minor": 2
}
