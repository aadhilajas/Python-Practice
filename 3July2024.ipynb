{
 "cells": [
  {
   "cell_type": "code",
   "execution_count": null,
   "metadata": {},
   "outputs": [],
   "source": [
    "import pandas as pd\n",
    "\n",
    "df = pd.DataFrame({\n",
    "    'A': [1, 2, None, 4],\n",
    "    'B': [None, 2, 3, 4],\n",
    "    'C': [1, None, None, 4]\n",
    "})\n",
    "\n",
    "# Detecting null values\n",
    "print(df.isnull())\n",
    "\n",
    "# Detecting null values in a specific column\n",
    "print(df['A'].isnull())"
   ]
  },
  {
   "cell_type": "code",
   "execution_count": null,
   "metadata": {},
   "outputs": [],
   "source": [
    "# Detecting non-null values\n",
    "print(df.notnull())\n",
    "\n",
    "# Detecting non-null values in a specific column\n",
    "print(df['A'].notnull())"
   ]
  },
  {
   "cell_type": "code",
   "execution_count": null,
   "metadata": {},
   "outputs": [],
   "source": [
    "# Drop rows with any null values\n",
    "print(df.dropna())\n",
    "\n",
    "# Drop columns with any null values\n",
    "print(df.dropna(axis=1))\n",
    "\n",
    "# Drop rows where all values are null\n",
    "print(df.dropna(how='all'))"
   ]
  },
  {
   "cell_type": "code",
   "execution_count": null,
   "metadata": {},
   "outputs": [],
   "source": [
    "# Fill null values with a constant\n",
    "print(df.fillna(0))\n",
    "\n",
    "# Fill null values with the mean of the column\n",
    "print(df.fillna(df.mean()))\n",
    "\n",
    "# Fill null values forward (propagate last valid observation forward)\n",
    "print(df.fillna(method='ffill'))\n",
    "\n",
    "# Fill null values backward (propagate next valid observation backward)\n",
    "print(df.fillna(method='bfill'))"
   ]
  },
  {
   "cell_type": "code",
   "execution_count": null,
   "metadata": {},
   "outputs": [],
   "source": [
    "# Replace null values with a specific value\n",
    "print(df.replace(to_replace=None, value=0))\n",
    "\n",
    "# Replace null values in a specific column\n",
    "df['A'] = df['A'].replace(to_replace=None, value=100)\n",
    "print(df)\n",
    "\n",
    "# Replace null values with a different placeholder\n",
    "print(df.replace(to_replace=None, value='Unknown'))"
   ]
  },
  {
   "cell_type": "code",
   "execution_count": null,
   "metadata": {},
   "outputs": [],
   "source": [
    "# Interpolate missing values using linear method\n",
    "print(df.interpolate())\n",
    "\n",
    "# Interpolate missing values using quadratic method\n",
    "print(df.interpolate(method='quadratic'))\n",
    "\n",
    "# Interpolate missing values using polynomial method\n",
    "print(df.interpolate(method='polynomial', order=2))"
   ]
  },
  {
   "cell_type": "code",
   "execution_count": null,
   "metadata": {},
   "outputs": [],
   "source": [
    "# Check if any null values exist in the DataFrame\n",
    "print(df.isnull().values.any())\n",
    "\n",
    "# Check if any null values exist in a specific column\n",
    "print(df['A'].isnull().values.any())"
   ]
  },
  {
   "cell_type": "code",
   "execution_count": null,
   "metadata": {},
   "outputs": [],
   "source": [
    "# Get the count of null values in each column\n",
    "print(df.isnull().sum())\n",
    "\n",
    "# Get the count of null values in a specific column\n",
    "print(df['A'].isnull().sum())\n",
    "\n",
    "# Get the total count of null values in the DataFrame\n",
    "print(df.isnull().sum().sum())"
   ]
  },
  {
   "cell_type": "code",
   "execution_count": null,
   "metadata": {},
   "outputs": [],
   "source": [
    "import pandas as pd\n",
    "\n",
    "data = {\n",
    "    'Name': ['John', 'Anna', 'Peter', None, 'Linda'],\n",
    "    'Age': [28, 24, None, 35, 32],\n",
    "    'Salary': [None, 54000, 58000, 61000, None]\n",
    "}\n",
    "\n",
    "df = pd.DataFrame(data)\n",
    "\n",
    "# Detecting null values\n",
    "print(df.isnull())\n",
    "print(df['Age'].isnull())"
   ]
  },
  {
   "cell_type": "code",
   "execution_count": null,
   "metadata": {},
   "outputs": [],
   "source": [
    "# Dropping null values\n",
    "# Drop rows with any null values\n",
    "print(df.dropna())          \n",
    "# Drop columns with any null values\n",
    "print(df.dropna(axis=1))    \n",
    "# Drop rows where all values are null\n",
    "print(df.dropna(how='all')) "
   ]
  },
  {
   "cell_type": "code",
   "execution_count": null,
   "metadata": {},
   "outputs": [],
   "source": [
    "# Filling null values\n",
    "# Fill null values with a constant\n",
    "print(df.fillna(0))  \n",
    "# Fill null values with column mean      \n",
    "print(df.fillna(df.mean())) \n",
    "# Fill null values forward\n",
    "print(df.fillna(method='ffill')) \n",
    "# Fill null values backward\n",
    "print(df.fillna(method='bfill')) "
   ]
  },
  {
   "cell_type": "code",
   "execution_count": null,
   "metadata": {},
   "outputs": [],
   "source": [
    "# Replacing null values\n",
    "print(df.replace(to_replace=None, value=0))\n",
    "df['Name'] = df['Name'].replace(to_replace=None, value='Unknown')\n",
    "print(df)"
   ]
  },
  {
   "cell_type": "code",
   "execution_count": null,
   "metadata": {},
   "outputs": [],
   "source": [
    "# Interpolating missing values\n",
    "print(df.interpolate())\n",
    "print(df.interpolate(method='quadratic'))\n",
    "print(df.interpolate(method='polynomial', order=2))"
   ]
  },
  {
   "cell_type": "code",
   "execution_count": null,
   "metadata": {},
   "outputs": [],
   "source": [
    "# Checking for any null values\n",
    "print(df.isnull().values.any())\n",
    "print(df['Age'].isnull().values.any())"
   ]
  },
  {
   "cell_type": "code",
   "execution_count": null,
   "metadata": {},
   "outputs": [],
   "source": [
    "# Summarizing null values\n",
    "print(df.isnull().sum())\n",
    "print(df['Age'].isnull().sum())\n",
    "print(df.isnull().sum().sum())"
   ]
  }
 ],
 "metadata": {
  "language_info": {
   "name": "python"
  }
 },
 "nbformat": 4,
 "nbformat_minor": 2
}
