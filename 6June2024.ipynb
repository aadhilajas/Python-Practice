{
 "cells": [
  {
   "cell_type": "code",
   "execution_count": null,
   "metadata": {},
   "outputs": [],
   "source": [
    "# Input and Output\n",
    "name = input(\"Enter your name:\")\n",
    "print(f\"Hello {name}, Welcome to the world of python.\")"
   ]
  },
  {
   "cell_type": "code",
   "execution_count": null,
   "metadata": {},
   "outputs": [],
   "source": [
    "# Data types\n",
    "int_num = 10\n",
    "float_num = 5.23\n",
    "complex_num = 2 + 3j\n",
    "string = \"Hello, World\"\n",
    "boolean = False\n",
    "list_example = [12,32,54,35]\n",
    "tuple_example = (12,23,34,67)\n",
    "dict_example = {\"a\":23,\"b\":23,\"c\":45}\n",
    "set_example = {12,23,45,67}\n",
    "\n",
    "print(int_num)\n",
    "print(float_num)\n",
    "print(complex_num)\n",
    "print(string)\n",
    "print(boolean)\n",
    "print(list_example)\n",
    "print(tuple_example)\n",
    "print(dict_example)\n",
    "print(set_example)"
   ]
  },
  {
   "cell_type": "code",
   "execution_count": null,
   "metadata": {},
   "outputs": [],
   "source": [
    "# Expressions and Operators\n",
    "a = 10\n",
    "b = 5\n",
    "# arithmetic operators\n",
    "print(a+b) \n",
    "print(a-b)\n",
    "print(a*b)\n",
    "print(a/b)\n",
    "print(a//b)\n",
    "print(a%b)\n",
    "print(a**b)"
   ]
  },
  {
   "cell_type": "code",
   "execution_count": null,
   "metadata": {},
   "outputs": [],
   "source": [
    "# comparison operators\n",
    "print(a==b)\n",
    "print(a!=b)\n",
    "print(a>b)\n",
    "print(a<b)\n",
    "print(a>=b)\n",
    "print(a<=b)"
   ]
  },
  {
   "cell_type": "code",
   "execution_count": null,
   "metadata": {},
   "outputs": [],
   "source": [
    "# logical operators\n",
    "print(a>6 and b<6)\n",
    "print(a>6 or b<3)\n",
    "print(not(a>6 and b<6))"
   ]
  },
  {
   "cell_type": "code",
   "execution_count": null,
   "metadata": {},
   "outputs": [],
   "source": [
    "# Type Casting\n",
    "int_from_float = int(5.32)\n",
    "float_from_int = float(52)\n",
    "string_from_int = str(34)\n",
    "list_from_string = list(\"Apple\")\n",
    "tuple_from_list = tuple([1,2,3,4,5])\n",
    "set_from_list = set([1,2,3,4,5])\n",
    "\n",
    "print(int_from_float)\n",
    "print(float_from_int)\n",
    "print(string_from_int)\n",
    "print(list_from_string)\n",
    "print(tuple_from_list)\n",
    "print(set_from_list)\n"
   ]
  },
  {
   "cell_type": "code",
   "execution_count": null,
   "metadata": {},
   "outputs": [],
   "source": [
    "# Conditional statements\n",
    "a = 5\n",
    "b = 10\n",
    "\n",
    "if a == b:\n",
    "    print(\"The numbers are equal.\")\n",
    "elif a > b:\n",
    "    print(f\"{a} is greater than {b}.\")\n",
    "else:\n",
    "    print(f\"{a} is lesser than {b}\")"
   ]
  },
  {
   "cell_type": "code",
   "execution_count": null,
   "metadata": {},
   "outputs": [],
   "source": [
    "# Looping Statements\n",
    "colour = [\"Violet\",\"Indigo\",\"Blue\",\"Green\",\"Yellow\",\"Orange\",\"Red\"]\n",
    " # For loop\n",
    "for i in colour:\n",
    "    print(i)"
   ]
  },
  {
   "cell_type": "code",
   "execution_count": null,
   "metadata": {},
   "outputs": [],
   "source": [
    " # While loop\n",
    "n = 0\n",
    "while n < len(colour):\n",
    "    print(colour[n])\n",
    "    n = n+1"
   ]
  },
  {
   "cell_type": "code",
   "execution_count": null,
   "metadata": {},
   "outputs": [],
   "source": [
    "# Jumping Statements\n",
    "    # Break statement\n",
    "for i in range(10):\n",
    "    if i==5:\n",
    "        break\n",
    "    print(i)"
   ]
  },
  {
   "cell_type": "code",
   "execution_count": null,
   "metadata": {},
   "outputs": [],
   "source": [
    "  # continue statement\n",
    "for i in range(10):\n",
    "    if i==5:\n",
    "        continue\n",
    "    print(i)"
   ]
  },
  {
   "cell_type": "code",
   "execution_count": null,
   "metadata": {},
   "outputs": [],
   "source": [
    "# Special Functions\n",
    " # len()\n",
    "print(len(colour))"
   ]
  },
  {
   "cell_type": "code",
   "execution_count": null,
   "metadata": {},
   "outputs": [],
   "source": [
    "# id()\n",
    "print(id(colour))"
   ]
  },
  {
   "cell_type": "code",
   "execution_count": null,
   "metadata": {},
   "outputs": [],
   "source": [
    "# type()\n",
    "print(type(colour))"
   ]
  },
  {
   "cell_type": "code",
   "execution_count": null,
   "metadata": {},
   "outputs": [],
   "source": [
    "  # range()\n",
    "for i in range(5):\n",
    "    print(i)"
   ]
  },
  {
   "cell_type": "code",
   "execution_count": null,
   "metadata": {},
   "outputs": [],
   "source": [
    "# Functions in python\n",
    "\n",
    "def calculate_area(length,breadth=5):\n",
    "    return length * breadth\n",
    "# Positional argument\n",
    "area = calculate_area(5,4)\n",
    "print(area)"
   ]
  },
  {
   "cell_type": "code",
   "execution_count": null,
   "metadata": {},
   "outputs": [],
   "source": [
    "# Keyword argument\n",
    "area = calculate_area(breadth=7,length=3)\n",
    "print(area)"
   ]
  },
  {
   "cell_type": "code",
   "execution_count": null,
   "metadata": {},
   "outputs": [],
   "source": [
    "# Default argument\n",
    "area = calculate_area(5)\n",
    "print(area)"
   ]
  },
  {
   "cell_type": "code",
   "execution_count": null,
   "metadata": {},
   "outputs": [],
   "source": [
    "# Passing functions as arguments\n",
    "\n",
    "def shout(text):\n",
    "    return text.upper()\n",
    "def whisper(text):\n",
    "    return text.lower()\n",
    "def modify_text(text,func):\n",
    "    return func(text)\n",
    "\n",
    "yelled_text = modify_text(\"Hello World\",shout)\n",
    "print(yelled_text)"
   ]
  },
  {
   "cell_type": "code",
   "execution_count": null,
   "metadata": {},
   "outputs": [],
   "source": [
    "# Lambda\n",
    "\n",
    "# simple addition\n",
    "add = lambda a,b : a+b\n",
    "result = add(5,4)\n",
    "print(result)"
   ]
  },
  {
   "cell_type": "code",
   "execution_count": null,
   "metadata": {},
   "outputs": [],
   "source": [
    "# String Formatting\n",
    "greeting = lambda name : f\" Hello {name}\"\n",
    "message = greeting(\"Adwaid\")\n",
    "print(message)"
   ]
  },
  {
   "cell_type": "code",
   "execution_count": null,
   "metadata": {},
   "outputs": [],
   "source": [
    "# Sorting a list\n",
    "fruits = [\"Apple\",\"Banana\",\"Mango\",\"Grapes\"]\n",
    "sorted_words = sorted(fruits,key = lambda word: len(word))\n",
    "print(sorted_words)"
   ]
  },
  {
   "cell_type": "code",
   "execution_count": null,
   "metadata": {},
   "outputs": [],
   "source": [
    "# map()\n",
    "numbers = [1,3,5,6,8]\n",
    "squared_numbers = map(lambda x: x**2,numbers)\n",
    "print(list(squared_numbers))"
   ]
  },
  {
   "cell_type": "code",
   "execution_count": null,
   "metadata": {},
   "outputs": [],
   "source": [
    "# filter()\n",
    "numbers = [1,2,3,4,5,6,7]\n",
    "even_number = filter(lambda x: x%2==0,numbers)\n",
    "print(list(even_number))"
   ]
  },
  {
   "cell_type": "code",
   "execution_count": null,
   "metadata": {},
   "outputs": [],
   "source": [
    "# reduce()\n",
    "from functools import reduce\n",
    "numbers = [1,2,3,4]\n",
    "product = reduce(lambda x,y: x*y,numbers)\n",
    "print(product)"
   ]
  },
  {
   "cell_type": "code",
   "execution_count": null,
   "metadata": {},
   "outputs": [],
   "source": [
    "# Area Calculator\n",
    "def calculate_area(shape,dimension):\n",
    "    if shape == \"rectangle\":\n",
    "        if \"length\" in dimension and \"breadth\" in dimension:\n",
    "            length = dimension[\"length\"]\n",
    "            breadth = dimension[\"breadth\"]\n",
    "            area = lambda x,y: x*y\n",
    "            result = area(length,breadth)\n",
    "            return result\n",
    "        \n",
    "    elif shape == \"circle\":\n",
    "        if \"radius\" in dimension:\n",
    "            radius = dimension[\"radius\"]\n",
    "            area = lambda x: 3.14*x*x\n",
    "            result = area(radius)\n",
    "            return result\n",
    "        \n",
    "    else:\n",
    "        print(\"Enter valid shape.\")\n",
    "    \n",
    "area=calculate_area(\"rectangle\",{\"length\":5,\"breadth\":4})\n",
    "print(\"Area of rectangle:\",area)\n",
    "\n",
    "area = calculate_area(\"circle\",{\"radius\":7})\n",
    "print(\"Area of circle:\",area)"
   ]
  }
 ],
 "metadata": {
  "kernelspec": {
   "display_name": "Python 3",
   "language": "python",
   "name": "python3"
  },
  "language_info": {
   "name": "python",
   "version": "3.12.2"
  }
 },
 "nbformat": 4,
 "nbformat_minor": 2
}
